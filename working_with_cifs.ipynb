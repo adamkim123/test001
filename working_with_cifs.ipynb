{
 "cells": [
  {
   "cell_type": "code",
   "execution_count": 1,
   "metadata": {},
   "outputs": [],
   "source": [
    "import numpy as np\n",
    "from pymatgen.core import Structure, Lattice, PeriodicSite, DummySpecie\n",
    "from pymatgen.analysis.graphs import StructureGraph\n",
    "from pymatgen.analysis.local_env import MinimumDistanceNN, CrystalNN "
   ]
  },
  {
   "cell_type": "code",
   "execution_count": 2,
   "metadata": {},
   "outputs": [
    {
     "name": "stderr",
     "output_type": "stream",
     "text": [
      "/home/adamkim/anaconda3/envs/sample001/lib/python3.13/site-packages/pymatgen/core/structure.py:3087: EncodingWarning: We strongly encourage explicit `encoding`, and we would use UTF-8 by default as per PEP 686\n",
      "  with zopen(filename, mode=\"rt\", errors=\"replace\") as file:\n",
      "/home/adamkim/anaconda3/envs/sample001/lib/python3.13/site-packages/pymatgen/io/cif.py:1290: UserWarning: Issues encountered while parsing CIF: 47 fractional coordinates rounded to ideal values to avoid issues with finite precision.\n",
      "  warnings.warn(\"Issues encountered while parsing CIF: \" + \"\\n\".join(self.warnings))\n",
      "/home/adamkim/anaconda3/envs/sample001/lib/python3.13/site-packages/pymatgen/io/cif.py:1290: UserWarning: Issues encountered while parsing CIF: 6 fractional coordinates rounded to ideal values to avoid issues with finite precision.\n",
      "  warnings.warn(\"Issues encountered while parsing CIF: \" + \"\\n\".join(self.warnings))\n"
     ]
    },
    {
     "name": "stdout",
     "output_type": "stream",
     "text": [
      "Full Formula (X11 W4 Se4)\n",
      "Reduced Formula: X11(WSe)4\n",
      "abc   :  25.522526  25.522526  20.000000\n",
      "angles:  90.000000  90.000000 120.000000\n",
      "pbc   :       True       True       True\n",
      "Sites (19)\n",
      "  #  SP           a         b         c  original_new_am\n",
      "---  ----  --------  --------  --------  -----------------\n",
      "  0  W     0.041667  0.958333  0.185988  (42, 74)\n",
      "  1  X0+   0.167     0.458     0.186     (42, 0)\n",
      "  2  X0+   0.417     0.083     0.186     (42, 0)\n",
      "  3  W     0.416667  0.708333  0.185988  (42, 74)\n",
      "  4  X0+   0.417     0.833     0.186     (42, 0)\n",
      "  5  W     0.541667  0.333333  0.185988  (42, 74)\n",
      "  6  W     0.666667  0.458333  0.185988  (42, 74)\n",
      "  7  X0+   0.917     0.958     0.186     (42, 0)\n",
      "  8  X0+   0.208     0.167     0.108     (16, 0)\n",
      "  9  Se    0.208333  0.416667  0.107743  (16, 34)\n",
      " 10  X0+   0.208     0.667     0.108     (16, 0)\n",
      " 11  Se    0.333333  0.541667  0.107743  (16, 34)\n",
      " 12  X0+   0.833     0.417     0.108     (16, 0)\n",
      " 13  X0+   0.208     0.042     0.264     (16, 0)\n",
      " 14  Se    0.458333  0.041667  0.264232  (16, 34)\n",
      " 15  Se    0.458333  0.416667  0.264232  (16, 34)\n",
      " 16  X0+   0.583     0.042     0.264     (16, 0)\n",
      " 17  X0+   0.583     0.292     0.264     (16, 0)\n",
      " 18  X0+   0.958     0.042     0.264     (16, 0)\n"
     ]
    }
   ],
   "source": [
    "def main():    \n",
    "    # Load defective structure\n",
    "    defective_struct = Structure.from_file(\"high_density_defects/MoS2_500/highMoS2cifs/MoS2_Mo56W4Se4S117_9df8176f-1a41-4d9d-a2e3-2d4b0aac5937.cif\")\n",
    "    struct_lattice = defective_struct.lattice\n",
    "\n",
    "    # Get reference structure\n",
    "    ref_unit_cell = Structure.from_file(\"high_density_defects/MoS2_500/MoS2.cif\")\n",
    "    reference_struct = ref_unit_cell.make_supercell([8,8,1])\n",
    "\n",
    "    # Convert structures to dictionaries\n",
    "    defective_dict = struct_to_dict(defective_struct)\n",
    "    reference_dict = struct_to_dict(reference_struct)\n",
    "\n",
    "    # Get defect structure\n",
    "    defect_struct = get_defect_structure(defective_dict, reference_dict, struct_lattice)\n",
    "    print(defect_struct)\n",
    "    \n",
    "\n",
    "def struct_to_dict(structure):\n",
    "    list_of_sites = structure.sites\n",
    "    list_of_frac_coords = np.round(structure.frac_coords,3)\n",
    "    structure_dict = {i: j for i, j in zip(list_of_sites, list_of_frac_coords)}\n",
    "    return structure_dict\n",
    "\n",
    "\n",
    "def get_defect_structure(defective_dict, reference_dict, struct_lattice): \n",
    "    defect_site = []\n",
    "\n",
    "    for ref_site, ref_coords in reference_dict.items():\n",
    "        matching = False\n",
    "        for def_site, def_coords in defective_dict.items():\n",
    "            if np.array_equal(ref_coords, def_coords):\n",
    "                matching = True\n",
    "                if ref_site.specie != def_site.specie:  # Substitution case\n",
    "                    defect_site.append(PeriodicSite(\n",
    "                        species= def_site.species,\n",
    "                        coords= def_site.frac_coords,\n",
    "                        coords_are_cartesian=False,\n",
    "                        lattice= struct_lattice,\n",
    "                        properties= {\"original_new_am\": (ref_site.specie.Z, def_site.specie.Z)}\n",
    "                    ))\n",
    "\n",
    "        if not matching:           # Vacancy case\n",
    "            defect_site.append(PeriodicSite(\n",
    "                species=DummySpecie(),\n",
    "                coords = ref_coords,\n",
    "                coords_are_cartesian=False,\n",
    "                lattice = struct_lattice,\n",
    "                properties = {\"original_new_am\": (ref_site.specie.Z, 0)}\n",
    "                ))\n",
    "\n",
    "    # Create a structure with the defect sites\n",
    "    defect_struct = Structure.from_sites(defect_site)\n",
    "    return defect_struct\n",
    "\n",
    "\n",
    "if __name__ == \"__main__\":\n",
    "    main()"
   ]
  },
  {
   "cell_type": "code",
   "execution_count": null,
   "metadata": {},
   "outputs": [],
   "source": [
    "# What can you do with the defect structure\n",
    "print(defect_struct)"
   ]
  }
 ],
 "metadata": {
  "kernelspec": {
   "display_name": "sample001",
   "language": "python",
   "name": "python3"
  },
  "language_info": {
   "codemirror_mode": {
    "name": "ipython",
    "version": 3
   },
   "file_extension": ".py",
   "mimetype": "text/x-python",
   "name": "python",
   "nbconvert_exporter": "python",
   "pygments_lexer": "ipython3",
   "version": "3.13.1"
  }
 },
 "nbformat": 4,
 "nbformat_minor": 2
}
