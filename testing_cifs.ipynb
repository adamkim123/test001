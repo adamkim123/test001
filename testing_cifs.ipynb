{
 "cells": [
  {
   "cell_type": "code",
   "execution_count": 1,
   "metadata": {},
   "outputs": [],
   "source": [
    "import numpy as np\n",
    "from pymatgen.core import Structure, Lattice, PeriodicSite, DummySpecie\n",
    "from pymatgen.analysis.graphs import StructureGraph\n",
    "from pymatgen.analysis.local_env import MinimumDistanceNN, CrystalNN "
   ]
  },
  {
   "cell_type": "code",
   "execution_count": 70,
   "metadata": {},
   "outputs": [],
   "source": [
    "import time"
   ]
  },
  {
   "cell_type": "code",
   "execution_count": 66,
   "metadata": {},
   "outputs": [
    {
     "name": "stderr",
     "output_type": "stream",
     "text": [
      "/home/adamkim/anaconda3/envs/sample001/lib/python3.13/site-packages/pymatgen/core/structure.py:3087: EncodingWarning: We strongly encourage explicit `encoding`, and we would use UTF-8 by default as per PEP 686\n",
      "  with zopen(filename, mode=\"rt\", errors=\"replace\") as file:\n",
      "/home/adamkim/anaconda3/envs/sample001/lib/python3.13/site-packages/pymatgen/io/cif.py:1290: UserWarning: Issues encountered while parsing CIF: 23 fractional coordinates rounded to ideal values to avoid issues with finite precision.\n",
      "  warnings.warn(\"Issues encountered while parsing CIF: \" + \"\\n\".join(self.warnings))\n"
     ]
    }
   ],
   "source": [
    "defective_struct = Structure.from_file(\"high_density_defects/BP_spin_500/BPcifs/P_P126N9_2c43a131-a32a-4372-80ed-cb03ec5f2464.cif\")\n",
    "struct_lattice = defective_struct.lattice\n",
    "\n",
    "ref_unit_cell = Structure.from_file(\"unit_cells/P.cif\")\n",
    "reference_struct = ref_unit_cell.make_supercell([6,6,1])\n",
    "\n",
    "\n",
    "def struct_to_dict(structure):\n",
    "    list_of_sites = structure.sites\n",
    "    list_of_frac_coords = np.round(structure.frac_coords,3)\n",
    "    structure_dict = {i: j for i, j in zip(list_of_sites, list_of_frac_coords)}\n",
    "    return structure_dict\n",
    "\n",
    "# Convert structures to dictionaries\n",
    "defective_dict = struct_to_dict(defective_struct)\n",
    "reference_dict = struct_to_dict(reference_struct)"
   ]
  },
  {
   "cell_type": "markdown",
   "metadata": {},
   "source": [
    "## `Method 1`"
   ]
  },
  {
   "cell_type": "code",
   "execution_count": 71,
   "metadata": {},
   "outputs": [
    {
     "name": "stdout",
     "output_type": "stream",
     "text": [
      "0.35297653099951276\n"
     ]
    }
   ],
   "source": [
    "def get_defect_structure(defective_dict, reference_dict, struct_lattice): \n",
    "    defect_site = []\n",
    "\n",
    "    # Handle subtitution\n",
    "    for ref_site, ref_coords in reference_dict.items():\n",
    "        for def_site, def_coords in defective_dict.items():\n",
    "            if np.array_equal(ref_coords, def_coords):\n",
    "                if ref_site.specie != def_site.specie:  # Substitution case\n",
    "                    defect_site.append(PeriodicSite(\n",
    "                        species= def_site.species,\n",
    "                        coords= def_site.frac_coords,\n",
    "                        coords_are_cartesian=False,\n",
    "                        lattice= struct_lattice,\n",
    "                        properties= {\"original_new_am\": (ref_site.specie.Z, def_site.specie.Z)}\n",
    "                    ))\n",
    "\n",
    "    # Handle vacancy\n",
    "    for ref_site, ref_coords in reference_dict.items():\n",
    "        if any(np.array_equal(ref_coords, def_coords) for def_coords in defective_dict.values()):\n",
    "            pass\n",
    "        else:\n",
    "            defect_site.append(PeriodicSite(\n",
    "                species=DummySpecie(),\n",
    "                coords = ref_coords,\n",
    "                coords_are_cartesian=False,\n",
    "                lattice = struct_lattice,\n",
    "                properties = {\"original_new_am\": (ref_site.specie.Z, 0)}\n",
    "                ))\n",
    "\n",
    "    # Create a structure with the defect sites\n",
    "    defect_struct = Structure.from_sites(defect_site)\n",
    "    return defect_struct\n",
    "\n",
    "start = time.perf_counter()\n",
    "get_defect_structure(defective_dict, reference_dict, struct_lattice)\n",
    "end = time.perf_counter()\n",
    "\n",
    "print(end-start)\n"
   ]
  },
  {
   "cell_type": "markdown",
   "metadata": {},
   "source": [
    "## `Method 2`"
   ]
  },
  {
   "cell_type": "code",
   "execution_count": 73,
   "metadata": {},
   "outputs": [
    {
     "name": "stdout",
     "output_type": "stream",
     "text": [
      "0.28800913100167236\n"
     ]
    }
   ],
   "source": [
    "def get_defect_structure(defective_dict, reference_dict, struct_lattice): \n",
    "    defect_site = []\n",
    "\n",
    "    # Handle subtitution\n",
    "    for ref_site, ref_coords in reference_dict.items():\n",
    "        matching = False\n",
    "        for def_site, def_coords in defective_dict.items():\n",
    "            if np.array_equal(ref_coords, def_coords):\n",
    "                matching = True\n",
    "                if ref_site.specie != def_site.specie:  # Substitution case\n",
    "                    defect_site.append(PeriodicSite(\n",
    "                        species= def_site.species,\n",
    "                        coords= def_site.frac_coords,\n",
    "                        coords_are_cartesian=False,\n",
    "                        lattice= struct_lattice,\n",
    "                        properties= {\"original_new_am\": (ref_site.specie.Z, def_site.specie.Z)}\n",
    "                    ))\n",
    "\n",
    "        if not matching:\n",
    "            defect_site.append(PeriodicSite(\n",
    "                species=DummySpecie(),\n",
    "                coords = ref_coords,\n",
    "                coords_are_cartesian=False,\n",
    "                lattice = struct_lattice,\n",
    "                properties = {\"original_new_am\": (ref_site.specie.Z, 0)}\n",
    "                ))\n",
    "\n",
    "    # Create a structure with the defect sites\n",
    "    defect_struct = Structure.from_sites(defect_site)\n",
    "    return defect_struct\n",
    "\n",
    "start = time.perf_counter()\n",
    "get_defect_structure(defective_dict, reference_dict, struct_lattice)\n",
    "end = time.perf_counter()\n",
    "\n",
    "print(end-start)\n"
   ]
  }
 ],
 "metadata": {
  "kernelspec": {
   "display_name": "sample001",
   "language": "python",
   "name": "python3"
  },
  "language_info": {
   "codemirror_mode": {
    "name": "ipython",
    "version": 3
   },
   "file_extension": ".py",
   "mimetype": "text/x-python",
   "name": "python",
   "nbconvert_exporter": "python",
   "pygments_lexer": "ipython3",
   "version": "3.13.1"
  }
 },
 "nbformat": 4,
 "nbformat_minor": 2
}
